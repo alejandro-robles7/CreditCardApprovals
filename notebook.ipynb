{
  "nbformat_minor": 2,
  "metadata": {
    "kernelspec": {
      "display_name": "Python 3",
      "language": "python",
      "name": "python3"
    },
    "language_info": {
      "nbconvert_exporter": "python",
      "codemirror_mode": {
        "version": 3,
        "name": "ipython"
      },
      "mimetype": "text/x-python",
      "version": "3.5.2",
      "file_extension": ".py",
      "name": "python",
      "pygments_lexer": "ipython3"
    }
  },
  "cells": [
    {
      "source": "## 1. Credit card applications\n\u003cp\u003eCommercial banks receive \u003cem\u003ea lot\u003c/em\u003e of applications for credit cards. Many of them get rejected for many reasons, like high loan balances, low income levels, or too many inquiries on an individual\u0027s credit report, for example. Manually analyzing these applications is mundane, error-prone, and time-consuming (and time is money!). Luckily, this task can be automated with the power of machine learning and pretty much every commercial bank does so nowadays. In this notebook, we will build an automatic credit card approval predictor using machine learning techniques, just like the real banks do.\u003c/p\u003e\n\u003cp\u003e\u003cimg src\u003d\"https://assets.datacamp.com/production/project_558/img/credit_card.jpg\" alt\u003d\"Credit card being held in hand\"\u003e\u003c/p\u003e\n\u003cp\u003eWe\u0027ll use the \u003ca href\u003d\"http://archive.ics.uci.edu/ml/datasets/credit+approval\"\u003eCredit Card Approval dataset\u003c/a\u003e from the UCI Machine Learning Repository. The structure of this notebook is as follows:\u003c/p\u003e\n\u003cul\u003e\n\u003cli\u003eFirst, we will start off by loading and viewing the dataset.\u003c/li\u003e\n\u003cli\u003eWe will see that the dataset has a mixture of both numerical and non-numerical features, that it contains values from different ranges, plus that it contains a number of missing entries.\u003c/li\u003e\n\u003cli\u003eWe will have to preprocess the dataset to ensure the machine learning model we choose can make good predictions.\u003c/li\u003e\n\u003cli\u003eAfter our data is in good shape, we will do some exploratory data analysis to build our intuitions.\u003c/li\u003e\n\u003cli\u003eFinally, we will build a machine learning model that can predict if an individual\u0027s application for a credit card will be accepted.\u003c/li\u003e\n\u003c/ul\u003e\n\u003cp\u003eFirst, loading and viewing the dataset. We find that since this data is confidential, the contributor of the dataset has anonymized the feature names.\u003c/p\u003e",
      "metadata": {
        "editable": false,
        "tags": [
          "context"
        ],
        "deletable": false,
        "dc": {
          "key": "3"
        },
        "run_control": {
          "frozen": true
        },
        "pycharm": {}
      },
      "cell_type": "markdown"
    },
    {
      "source": "# Import pandas\n# ... YOUR CODE FOR TASK 1 ...\nimport pandas as pd\n\n# Load dataset\ncc_apps \u003d pd.read_csv(\u0027datasets/cc_approvals.data\u0027, header \u003d None)\n\n# Inspect data\n# ... YOUR CODE FOR TASK 1 ...\nprint(cc_apps.head())",
      "metadata": {
        "tags": [
          "sample_code"
        ],
        "dc": {
          "key": "3"
        },
        "trusted": true,
        "pycharm": {}
      },
      "outputs": [
        {
          "output_type": "stream",
          "name": "stdout",
          "text": "  0      1      2  3  4  5  6     7  8  9   10 11 12     13   14 15\n0  b  30.83  0.000  u  g  w  v  1.25  t  t   1  f  g  00202    0  +\n1  a  58.67  4.460  u  g  q  h  3.04  t  t   6  f  g  00043  560  +\n2  a  24.50  0.500  u  g  q  h  1.50  t  f   0  f  g  00280  824  +\n3  b  27.83  1.540  u  g  w  v  3.75  t  t   5  t  g  00100    3  +\n4  b  20.17  5.625  u  g  w  v  1.71  t  f   0  f  s  00120    0  +\n"
        }
      ],
      "cell_type": "code",
      "execution_count": 252
    },
    {
      "source": "## 2. Inspecting the applications\n\u003cp\u003eThe output may appear a bit confusing at its first sight, but let\u0027s try to figure out the most important features of a credit card application. The features of this dataset have been anonymized to protect the privacy, but \u003ca href\u003d\"http://rstudio-pubs-static.s3.amazonaws.com/73039_9946de135c0a49daa7a0a9eda4a67a72.html\"\u003ethis blog\u003c/a\u003e gives us a pretty good overview of the probable features. The probable features in a typical credit card application are \u003ccode\u003eGender\u003c/code\u003e, \u003ccode\u003eAge\u003c/code\u003e, \u003ccode\u003eDebt\u003c/code\u003e, \u003ccode\u003eMarried\u003c/code\u003e, \u003ccode\u003eBankCustomer\u003c/code\u003e, \u003ccode\u003eEducationLevel\u003c/code\u003e, \u003ccode\u003eEthnicity\u003c/code\u003e, \u003ccode\u003eYearsEmployed\u003c/code\u003e, \u003ccode\u003ePriorDefault\u003c/code\u003e, \u003ccode\u003eEmployed\u003c/code\u003e, \u003ccode\u003eCreditScore\u003c/code\u003e, \u003ccode\u003eDriversLicense\u003c/code\u003e, \u003ccode\u003eCitizen\u003c/code\u003e, \u003ccode\u003eZipCode\u003c/code\u003e, \u003ccode\u003eIncome\u003c/code\u003e and finally the \u003ccode\u003eApprovalStatus\u003c/code\u003e. This gives us a pretty good starting point, and we can map these features with respect to the columns in the output.   \u003c/p\u003e\n\u003cp\u003eAs we can see from our first glance at the data, the dataset has a mixture of numerical and non-numerical features. This can be fixed with some preprocessing, but before we do that, let\u0027s learn about the dataset a bit more to see if there are other dataset issues that need to be fixed.\u003c/p\u003e",
      "metadata": {
        "editable": false,
        "tags": [
          "context"
        ],
        "deletable": false,
        "dc": {
          "key": "10"
        },
        "run_control": {
          "frozen": true
        },
        "pycharm": {}
      },
      "cell_type": "markdown"
    },
    {
      "source": "# Print summary statistics\ncc_apps_description \u003d cc_apps.describe()\nprint(cc_apps_description)\n\nprint(\"\\n\")\n\n# Print DataFrame information\ncc_apps_info \u003d cc_apps.info()\nprint(cc_apps_info)\n\nprint(\"\\n\")\n\n# Inspect missing values in the dataset\n# ... YOUR CODE FOR TASK 2 ...\nprint(cc_apps.tail(17))",
      "metadata": {
        "tags": [
          "sample_code"
        ],
        "dc": {
          "key": "10"
        },
        "trusted": true,
        "pycharm": {}
      },
      "outputs": [
        {
          "output_type": "stream",
          "name": "stdout",
          "text": "               2           7          10             14\ncount  690.000000  690.000000  690.00000     690.000000\nmean     4.758725    2.223406    2.40000    1017.385507\nstd      4.978163    3.346513    4.86294    5210.102598\nmin      0.000000    0.000000    0.00000       0.000000\n25%      1.000000    0.165000    0.00000       0.000000\n50%      2.750000    1.000000    0.00000       5.000000\n75%      7.207500    2.625000    3.00000     395.500000\nmax     28.000000   28.500000   67.00000  100000.000000\n\n\n\u003cclass \u0027pandas.core.frame.DataFrame\u0027\u003e\nRangeIndex: 690 entries, 0 to 689\nData columns (total 16 columns):\n0     690 non-null object\n1     690 non-null object\n2     690 non-null float64\n3     690 non-null object\n4     690 non-null object\n5     690 non-null object\n6     690 non-null object\n7     690 non-null float64\n8     690 non-null object\n9     690 non-null object\n10    690 non-null int64\n11    690 non-null object\n12    690 non-null object\n13    690 non-null object\n14    690 non-null int64\n15    690 non-null object\ndtypes: float64(2), int64(2), object(12)\nmemory usage: 86.3+ KB\nNone\n\n\n    0      1       2  3  4   5   6      7  8  9   10 11 12     13   14 15\n673  ?  29.50   2.000  y  p   e   h  2.000  f  f   0  f  g  00256   17  -\n674  a  37.33   2.500  u  g   i   h  0.210  f  f   0  f  g  00260  246  -\n675  a  41.58   1.040  u  g  aa   v  0.665  f  f   0  f  g  00240  237  -\n676  a  30.58  10.665  u  g   q   h  0.085  f  t  12  t  g  00129    3  -\n677  b  19.42   7.250  u  g   m   v  0.040  f  t   1  f  g  00100    1  -\n678  a  17.92  10.210  u  g  ff  ff  0.000  f  f   0  f  g  00000   50  -\n679  a  20.08   1.250  u  g   c   v  0.000  f  f   0  f  g  00000    0  -\n680  b  19.50   0.290  u  g   k   v  0.290  f  f   0  f  g  00280  364  -\n681  b  27.83   1.000  y  p   d   h  3.000  f  f   0  f  g  00176  537  -\n682  b  17.08   3.290  u  g   i   v  0.335  f  f   0  t  g  00140    2  -\n683  b  36.42   0.750  y  p   d   v  0.585  f  f   0  f  g  00240    3  -\n684  b  40.58   3.290  u  g   m   v  3.500  f  f   0  t  s  00400    0  -\n685  b  21.08  10.085  y  p   e   h  1.250  f  f   0  f  g  00260    0  -\n686  a  22.67   0.750  u  g   c   v  2.000  f  t   2  t  g  00200  394  -\n687  a  25.25  13.500  y  p  ff  ff  2.000  f  t   1  t  g  00200    1  -\n688  b  17.92   0.205  u  g  aa   v  0.040  f  f   0  f  g  00280  750  -\n689  b  35.00   3.375  u  g   c   h  8.290  f  f   0  t  g  00000    0  -\n"
        }
      ],
      "cell_type": "code",
      "execution_count": 254
    },
    {
      "source": "## 3. Handling the missing values (part i)\n\u003cp\u003eWe\u0027ve uncovered some issues that will affect the performance of our machine learning model(s) if they go unchanged:\u003c/p\u003e\n\u003cul\u003e\n\u003cli\u003eOur dataset contains both numeric and non-numeric data (specifically data that are of \u003ccode\u003efloat64\u003c/code\u003e, \u003ccode\u003eint64\u003c/code\u003e and \u003ccode\u003eobject\u003c/code\u003e types). Specifically, the features 2, 7, 10 and 14 contain numeric values (of types float64, float64, int64 and int64 respectively) and all the other features contain non-numeric values.\u003c/li\u003e\n\u003cli\u003eThe dataset also contains values from several ranges. Some features have a value range of 0 - 28, some have a range of 2 - 67, and some have a range of 1017 - 100000. Apart from these, we can get useful statistical information (like \u003ccode\u003emean\u003c/code\u003e, \u003ccode\u003emax\u003c/code\u003e, and \u003ccode\u003emin\u003c/code\u003e) about the features that have numerical values. \u003c/li\u003e\n\u003cli\u003eFinally, the dataset has missing values, which we\u0027ll take care of in this task. The missing values in the dataset are labeled with \u0027?\u0027, which can be seen in the last cell\u0027s output.\u003c/li\u003e\n\u003c/ul\u003e\n\u003cp\u003eNow, let\u0027s temporarily replace these missing value question marks with NaN.\u003c/p\u003e",
      "metadata": {
        "editable": false,
        "tags": [
          "context"
        ],
        "deletable": false,
        "dc": {
          "key": "17"
        },
        "run_control": {
          "frozen": true
        },
        "pycharm": {}
      },
      "cell_type": "markdown"
    },
    {
      "source": "# Import numpy\n# ... YOUR CODE FOR TASK 3 ...\nimport numpy as np\n\n# Inspect missing values in the dataset\nprint(cc_apps.tail(17))\n\n# Replace the \u0027?\u0027s with NaN\ncc_apps \u003d cc_apps.replace(\u0027?\u0027, np.nan)\n\n# Inspect the missing values again\n# ... YOUR CODE FOR TASK 3 ...\nprint(cc_apps.tail(17))",
      "metadata": {
        "tags": [
          "sample_code"
        ],
        "dc": {
          "key": "17"
        },
        "trusted": true,
        "pycharm": {}
      },
      "outputs": [
        {
          "output_type": "stream",
          "name": "stdout",
          "text": "    0      1       2  3  4   5   6      7  8  9   10 11 12     13   14 15\n673  ?  29.50   2.000  y  p   e   h  2.000  f  f   0  f  g  00256   17  -\n674  a  37.33   2.500  u  g   i   h  0.210  f  f   0  f  g  00260  246  -\n675  a  41.58   1.040  u  g  aa   v  0.665  f  f   0  f  g  00240  237  -\n676  a  30.58  10.665  u  g   q   h  0.085  f  t  12  t  g  00129    3  -\n677  b  19.42   7.250  u  g   m   v  0.040  f  t   1  f  g  00100    1  -\n678  a  17.92  10.210  u  g  ff  ff  0.000  f  f   0  f  g  00000   50  -\n679  a  20.08   1.250  u  g   c   v  0.000  f  f   0  f  g  00000    0  -\n680  b  19.50   0.290  u  g   k   v  0.290  f  f   0  f  g  00280  364  -\n681  b  27.83   1.000  y  p   d   h  3.000  f  f   0  f  g  00176  537  -\n682  b  17.08   3.290  u  g   i   v  0.335  f  f   0  t  g  00140    2  -\n683  b  36.42   0.750  y  p   d   v  0.585  f  f   0  f  g  00240    3  -\n684  b  40.58   3.290  u  g   m   v  3.500  f  f   0  t  s  00400    0  -\n685  b  21.08  10.085  y  p   e   h  1.250  f  f   0  f  g  00260    0  -\n686  a  22.67   0.750  u  g   c   v  2.000  f  t   2  t  g  00200  394  -\n687  a  25.25  13.500  y  p  ff  ff  2.000  f  t   1  t  g  00200    1  -\n688  b  17.92   0.205  u  g  aa   v  0.040  f  f   0  f  g  00280  750  -\n689  b  35.00   3.375  u  g   c   h  8.290  f  f   0  t  g  00000    0  -\n      0      1       2  3  4   5   6      7  8  9   10 11 12     13   14 15\n673  NaN  29.50   2.000  y  p   e   h  2.000  f  f   0  f  g  00256   17  -\n674    a  37.33   2.500  u  g   i   h  0.210  f  f   0  f  g  00260  246  -\n675    a  41.58   1.040  u  g  aa   v  0.665  f  f   0  f  g  00240  237  -\n676    a  30.58  10.665  u  g   q   h  0.085  f  t  12  t  g  00129    3  -\n677    b  19.42   7.250  u  g   m   v  0.040  f  t   1  f  g  00100    1  -\n678    a  17.92  10.210  u  g  ff  ff  0.000  f  f   0  f  g  00000   50  -\n679    a  20.08   1.250  u  g   c   v  0.000  f  f   0  f  g  00000    0  -\n680    b  19.50   0.290  u  g   k   v  0.290  f  f   0  f  g  00280  364  -\n681    b  27.83   1.000  y  p   d   h  3.000  f  f   0  f  g  00176  537  -\n682    b  17.08   3.290  u  g   i   v  0.335  f  f   0  t  g  00140    2  -\n683    b  36.42   0.750  y  p   d   v  0.585  f  f   0  f  g  00240    3  -\n684    b  40.58   3.290  u  g   m   v  3.500  f  f   0  t  s  00400    0  -\n685    b  21.08  10.085  y  p   e   h  1.250  f  f   0  f  g  00260    0  -\n686    a  22.67   0.750  u  g   c   v  2.000  f  t   2  t  g  00200  394  -\n687    a  25.25  13.500  y  p  ff  ff  2.000  f  t   1  t  g  00200    1  -\n688    b  17.92   0.205  u  g  aa   v  0.040  f  f   0  f  g  00280  750  -\n689    b  35.00   3.375  u  g   c   h  8.290  f  f   0  t  g  00000    0  -\n"
        }
      ],
      "cell_type": "code",
      "execution_count": 256
    },
    {
      "source": "## 4. Handling the missing values (part ii)\n\u003cp\u003eWe replaced all the question marks with NaNs. This is going to help us in the next missing value treatment that we are going to perform.\u003c/p\u003e\n\u003cp\u003eAn important question that gets raised here is \u003cem\u003ewhy are we giving so much importance to missing values\u003c/em\u003e? Can\u0027t they be just ignored? Ignoring missing values can affect the performance of a machine learning model heavily. While ignoring the missing values our machine learning model may miss out on information about the dataset that may be useful for its training. Then, there are many models which cannot handle missing values implicitly such as LDA. \u003c/p\u003e\n\u003cp\u003eSo, to avoid this problem, we are going to impute the missing values with a strategy called mean imputation.\u003c/p\u003e",
      "metadata": {
        "editable": false,
        "tags": [
          "context"
        ],
        "deletable": false,
        "dc": {
          "key": "24"
        },
        "run_control": {
          "frozen": true
        },
        "pycharm": {}
      },
      "cell_type": "markdown"
    },
    {
      "source": "# Impute the missing values with mean imputation\ncc_apps.fillna(cc_apps.mean(), inplace\u003dTrue)\n\n# Count the number of NaNs in the dataset to verify\n# ... YOUR CODE FOR TASK 4 ...\ncc_apps.isnull().sum()",
      "metadata": {
        "tags": [
          "sample_code"
        ],
        "dc": {
          "key": "24"
        },
        "trusted": true,
        "pycharm": {}
      },
      "outputs": [
        {
          "metadata": {},
          "data": {
            "text/plain": "0     12\n1     12\n2      0\n3      6\n4      6\n5      9\n6      9\n7      0\n8      0\n9      0\n10     0\n11     0\n12     0\n13    13\n14     0\n15     0\ndtype: int64"
          },
          "output_type": "execute_result",
          "execution_count": 258
        }
      ],
      "cell_type": "code",
      "execution_count": 258
    },
    {
      "source": "## 5. Handling the missing values (part iii)\n\u003cp\u003eWe have successfully taken care of the missing values present in the numeric columns. There are still some missing values to be imputed for columns 0, 1, 3, 4, 5, 6 and 13. All of these columns contain non-numeric data and this why the mean imputation strategy would not work here. This needs a different treatment. \u003c/p\u003e\n\u003cp\u003eWe are going to impute these missing values with the most frequent values as present in the respective columns. This is \u003ca href\u003d\"https://www.datacamp.com/community/tutorials/categorical-data\"\u003egood practice\u003c/a\u003e when it comes to imputing missing values for categorical data in general.\u003c/p\u003e",
      "metadata": {
        "editable": false,
        "tags": [
          "context"
        ],
        "deletable": false,
        "dc": {
          "key": "31"
        },
        "run_control": {
          "frozen": true
        },
        "pycharm": {}
      },
      "cell_type": "markdown"
    },
    {
      "source": "# Iterate over each column of cc_apps\nfor col in cc_apps:\n    # Check if the column is of object type\n    if cc_apps[col].dtypes \u003d\u003d \u0027object\u0027:\n        # Impute with the most frequent value\n        cc_apps \u003d cc_apps.fillna(cc_apps[col].value_counts().index[0])\n\n# Count the number of NaNs in the dataset and print the counts to verify\n# ... YOUR CODE FOR TASK 5 ...\ncc_apps.isna().sum()",
      "metadata": {
        "tags": [
          "sample_code"
        ],
        "dc": {
          "key": "31"
        },
        "trusted": true,
        "pycharm": {}
      },
      "outputs": [
        {
          "metadata": {},
          "data": {
            "text/plain": "0     0\n1     0\n2     0\n3     0\n4     0\n5     0\n6     0\n7     0\n8     0\n9     0\n10    0\n11    0\n12    0\n13    0\n14    0\n15    0\ndtype: int64"
          },
          "output_type": "execute_result",
          "execution_count": 260
        }
      ],
      "cell_type": "code",
      "execution_count": 260
    },
    {
      "source": "## 6. Preprocessing the data (part i)\n\u003cp\u003eThe missing values are now successfully handled.\u003c/p\u003e\n\u003cp\u003eThere is still some minor but essential data preprocessing needed before we proceed towards building our machine learning model. We are going to divide these remaining preprocessing steps into three main tasks:\u003c/p\u003e\n\u003col\u003e\n\u003cli\u003eConvert the non-numeric data into numeric.\u003c/li\u003e\n\u003cli\u003eSplit the data into train and test sets. \u003c/li\u003e\n\u003cli\u003eScale the feature values to a uniform range.\u003c/li\u003e\n\u003c/ol\u003e\n\u003cp\u003eFirst, we will be converting all the non-numeric values into numeric ones. We do this because not only it results in a faster computation but also many machine learning models (like XGBoost) (and especially the ones developed using scikit-learn) require the data to be in a strictly numeric format. We will do this by using a technique called \u003ca href\u003d\"http://scikit-learn.org/stable/modules/generated/sklearn.preprocessing.LabelEncoder.html\"\u003elabel encoding\u003c/a\u003e.\u003c/p\u003e",
      "metadata": {
        "editable": false,
        "tags": [
          "context"
        ],
        "deletable": false,
        "dc": {
          "key": "38"
        },
        "run_control": {
          "frozen": true
        },
        "pycharm": {}
      },
      "cell_type": "markdown"
    },
    {
      "source": "# Import LabelEncoder\n# ... YOUR CODE FOR TASK 6 ...\nfrom sklearn import preprocessing\n\n# Instantiate LabelEncoder\n# ... YOUR CODE FOR TASK 6 ...\nle \u003d preprocessing.LabelEncoder()\n\n# Iterate over all the values of each column and extract their dtypes\nfor col in cc_apps:\n    # Compare if the dtype is object\n    if cc_apps[col].dtype \u003d\u003d\u0027object\u0027:\n    # Use LabelEncoder to do the numeric transformation\n        le.fit(cc_apps[col])\n        cc_apps[col]\u003dle.transform(cc_apps[col])",
      "metadata": {
        "tags": [
          "sample_code"
        ],
        "dc": {
          "key": "38"
        },
        "trusted": true,
        "pycharm": {}
      },
      "outputs": [],
      "cell_type": "code",
      "execution_count": 262
    },
    {
      "source": "## 7. Splitting the dataset into train and test sets\n\u003cp\u003eWe have successfully converted all the non-numeric values to numeric ones.\u003c/p\u003e\n\u003cp\u003eNow, we will split our data into train set and test set to prepare our data for two different phases of machine learning modeling: training and testing. Ideally, no information from the test data should be used to scale the training data or should be used to direct the training process of a machine learning model. Hence, we first split the data and then apply the scaling.\u003c/p\u003e\n\u003cp\u003eAlso, features like \u003ccode\u003eDriversLicense\u003c/code\u003e and \u003ccode\u003eZipCode\u003c/code\u003e are not as important as the other features in the dataset for predicting credit card approvals. We should drop them to design our machine learning model with the best set of features. In Data Science literature, this is often referred to as \u003cem\u003efeature selection\u003c/em\u003e. \u003c/p\u003e",
      "metadata": {
        "editable": false,
        "tags": [
          "context"
        ],
        "deletable": false,
        "dc": {
          "key": "45"
        },
        "run_control": {
          "frozen": true
        },
        "pycharm": {}
      },
      "cell_type": "markdown"
    },
    {
      "source": "# Import train_test_split\n# ... YOUR CODE FOR TASK 7 ...\nfrom sklearn.model_selection import train_test_split\n\n# Drop the features 11 and 13 and convert the DataFrame to a NumPy array\ncc_apps \u003d cc_apps.drop([11, 13], axis\u003d1)\ncc_apps \u003d cc_apps.values\n\n# Segregate features and labels into separate variables\nX,y \u003d cc_apps[:,0:13] , cc_apps[:,13]\n\n# Split into train and test sets\nX_train, X_test, y_train, y_test \u003d train_test_split(X,\n                                y,\n                                test_size\u003d0.33,\n                                random_state\u003d42)",
      "metadata": {
        "tags": [
          "sample_code"
        ],
        "dc": {
          "key": "45"
        },
        "trusted": true,
        "pycharm": {}
      },
      "outputs": [],
      "cell_type": "code",
      "execution_count": 264
    },
    {
      "source": "## 8. Preprocessing the data (part ii)\n\u003cp\u003eThe data is now split into two separate sets - train and test sets respectively. We are only left with one final preprocessing step of scaling before we can fit a machine learning model to the data. \u003c/p\u003e\n\u003cp\u003eNow, let\u0027s try to understand what these scaled values mean in the real world. Let\u0027s use \u003ccode\u003eCreditScore\u003c/code\u003e as an example. The credit score of a person is their creditworthiness based on their credit history. The higher this number, the more financially trustworthy a person is considered to be. So, a \u003ccode\u003eCreditScore\u003c/code\u003e of 1 is the highest since we\u0027re rescaling all the values to the range of 0-1.\u003c/p\u003e",
      "metadata": {
        "editable": false,
        "tags": [
          "context"
        ],
        "deletable": false,
        "dc": {
          "key": "52"
        },
        "run_control": {
          "frozen": true
        },
        "pycharm": {}
      },
      "cell_type": "markdown"
    },
    {
      "source": "# Import MinMaxScaler\n# ... YOUR CODE FOR TASK 8 ...\nfrom sklearn.preprocessing import MinMaxScaler\n\n# Instantiate MinMaxScaler and use it to rescale X_train and X_test\nscaler \u003d MinMaxScaler(feature_range\u003d(0, 1))\nscaler.fit(X_train)\nrescaledX_train \u003d scaler.transform(X_train)\nscaler.fit(X_test)\nrescaledX_test \u003d scaler.transform(X_test)",
      "metadata": {
        "tags": [
          "sample_code"
        ],
        "dc": {
          "key": "52"
        },
        "trusted": true,
        "pycharm": {}
      },
      "outputs": [],
      "cell_type": "code",
      "execution_count": 266
    },
    {
      "source": "## 9. Fitting a logistic regression model to the train set\n\u003cp\u003eEssentially, predicting if a credit card application will be approved or not is a \u003ca href\u003d\"https://en.wikipedia.org/wiki/Statistical_classification\"\u003eclassification\u003c/a\u003e task. \u003ca href\u003d\"http://archive.ics.uci.edu/ml/machine-learning-databases/credit-screening/crx.names\"\u003eAccording to UCI\u003c/a\u003e, our dataset contains more instances that correspond to \"Denied\" status than instances corresponding to \"Approved\" status. Specifically, out of 690 instances, there are 383 (55.5%) applications that got denied and 307 (44.5%) applications that got approved. \u003c/p\u003e\n\u003cp\u003eThis gives us a benchmark. A good machine learning model should be able to accurately predict the status of the applications with respect to these statistics.\u003c/p\u003e\n\u003cp\u003eWhich model should we pick? A question to ask is: \u003cem\u003eare the features that affect the credit card approval decision process correlated with each other?\u003c/em\u003e Although we can measure correlation, that is outside the scope of this notebook, so we\u0027ll rely on our intuition that they indeed are correlated for now. Because of this correlation, we\u0027ll take advantage of the fact that generalized linear models perform well in these cases. Let\u0027s start our machine learning modeling with a Logistic Regression model (a generalized linear model).\u003c/p\u003e",
      "metadata": {
        "editable": false,
        "tags": [
          "context"
        ],
        "deletable": false,
        "dc": {
          "key": "59"
        },
        "run_control": {
          "frozen": true
        },
        "pycharm": {}
      },
      "cell_type": "markdown"
    },
    {
      "source": "# Import LogisticRegression\n# ... YOUR CODE FOR TASK 9 ...\nfrom sklearn.linear_model import LogisticRegression\n\n# Instantiate a LogisticRegression classifier with default parameter values\nlogreg \u003d LogisticRegression()\n\n# Fit logreg to the train set\n# ... YOUR CODE FOR TASK 9 ...\nlogreg.fit(rescaledX_train, y_train)",
      "metadata": {
        "tags": [
          "sample_code"
        ],
        "dc": {
          "key": "59"
        },
        "trusted": true,
        "pycharm": {}
      },
      "outputs": [
        {
          "metadata": {},
          "data": {
            "text/plain": "LogisticRegression(C\u003d1.0, class_weight\u003dNone, dual\u003dFalse, fit_intercept\u003dTrue,\n          intercept_scaling\u003d1, max_iter\u003d100, multi_class\u003d\u0027ovr\u0027, n_jobs\u003d1,\n          penalty\u003d\u0027l2\u0027, random_state\u003dNone, solver\u003d\u0027liblinear\u0027, tol\u003d0.0001,\n          verbose\u003d0, warm_start\u003dFalse)"
          },
          "output_type": "execute_result",
          "execution_count": 268
        }
      ],
      "cell_type": "code",
      "execution_count": 268
    },
    {
      "source": "## 10. Making predictions and evaluating performance\n\u003cp\u003eBut how well does our model perform? \u003c/p\u003e\n\u003cp\u003eWe will now evaluate our model on the test set with respect to \u003ca href\u003d\"https://developers.google.com/machine-learning/crash-course/classification/accuracy\"\u003eclassification accuracy\u003c/a\u003e. But we will also take a look the model\u0027s \u003ca href\u003d\"http://www.dataschool.io/simple-guide-to-confusion-matrix-terminology/\"\u003econfusion matrix\u003c/a\u003e. In the case of predicting credit card applications, it is equally important to see if our machine learning model is able to predict the approval status of the applications as denied that originally got denied. If our model is not performing well in this aspect, then it might end up approving the application that should have been approved. The confusion matrix helps us to view our model\u0027s performance from these aspects.  \u003c/p\u003e",
      "metadata": {
        "editable": false,
        "tags": [
          "context"
        ],
        "deletable": false,
        "dc": {
          "key": "66"
        },
        "run_control": {
          "frozen": true
        },
        "pycharm": {}
      },
      "cell_type": "markdown"
    },
    {
      "source": "# Import confusion_matrix\n# ... YOUR CODE FOR TASK 10 ...\nfrom sklearn.metrics import confusion_matrix\n\n# Use logreg to predict instances from the test set and store it\ny_pred \u003d logreg.predict(rescaledX_test)\n\n# Get the accuracy score of logreg model and print it\nprint(\"Accuracy of logistic regression classifier: \", logreg.score(rescaledX_test, y_test))\n\n# Print the confusion matrix of the logreg model\n# ... YOUR CODE FOR TASK 10 ...\nprint(confusion_matrix(y_test, y_pred))",
      "metadata": {
        "tags": [
          "sample_code"
        ],
        "dc": {
          "key": "66"
        },
        "trusted": true,
        "pycharm": {}
      },
      "outputs": [
        {
          "output_type": "stream",
          "name": "stdout",
          "text": "Accuracy of logistic regression classifier:  0.8377192982456141\n[[92 11]\n [26 99]]\n"
        }
      ],
      "cell_type": "code",
      "execution_count": 270
    },
    {
      "source": "## 11. Grid searching and making the model perform better\n\u003cp\u003eOur model was pretty good! It was able to yield an accuracy score of almost 84%.\u003c/p\u003e\n\u003cp\u003eFor the confusion matrix, the first element of the of the first row of the confusion matrix denotes the true negatives meaning the number of negative instances (denied applications) predicted by the model correctly. And the last element of the second row of the confusion matrix denotes the true positives meaning the number of positive instances (approved applications) predicted by the model correctly.\u003c/p\u003e\n\u003cp\u003eLet\u0027s see if we can do better. We can perform a \u003ca href\u003d\"https://machinelearningmastery.com/how-to-tune-algorithm-parameters-with-scikit-learn/\"\u003egrid search\u003c/a\u003e of the model parameters to improve the model\u0027s ability to predict credit card approvals.\u003c/p\u003e\n\u003cp\u003e\u003ca href\u003d\"http://scikit-learn.org/stable/modules/generated/sklearn.linear_model.LogisticRegression.html\"\u003escikit-learn\u0027s implementation of logistic regression\u003c/a\u003e consists of different hyperparameters but we will grid search over the following two:\u003c/p\u003e\n\u003cul\u003e\n\u003cli\u003etol\u003c/li\u003e\n\u003cli\u003emax_iter\u003c/li\u003e\n\u003c/ul\u003e",
      "metadata": {
        "editable": false,
        "tags": [
          "context"
        ],
        "deletable": false,
        "dc": {
          "key": "73"
        },
        "run_control": {
          "frozen": true
        },
        "pycharm": {}
      },
      "cell_type": "markdown"
    },
    {
      "source": "# Import GridSearchCV\n# ... YOUR CODE FOR TASK 11 ...\nfrom sklearn.model_selection import GridSearchCV\n\n# Define the grid of values for tol and max_iter\ntol \u003d [0.01, 0.001, 0.0001]\nmax_iter \u003d [100, 150, 200]\n\n# Create a dictionary where tol and max_iter are keys and the lists of their values are corresponding values\nparam_grid \u003d dict(tol\u003dtol, max_iter\u003dmax_iter)",
      "metadata": {
        "tags": [
          "sample_code"
        ],
        "dc": {
          "key": "73"
        },
        "trusted": true,
        "pycharm": {}
      },
      "outputs": [],
      "cell_type": "code",
      "execution_count": 272
    },
    {
      "source": "## 12. Finding the best performing model\n\u003cp\u003eWe have defined the grid of hyperparameter values and converted them into a single dictionary format which \u003ccode\u003eGridSearchCV()\u003c/code\u003e expects as one of its parameters. Now, we will begin the grid search to see which values perform best.\u003c/p\u003e\n\u003cp\u003eWe will instantiate \u003ccode\u003eGridSearchCV()\u003c/code\u003e with our earlier \u003ccode\u003elogreg\u003c/code\u003e model with all the data we have. Instead of passing train and test sets separately, we will supply \u003ccode\u003eX\u003c/code\u003e (scaled version) and \u003ccode\u003ey\u003c/code\u003e. We will also instruct \u003ccode\u003eGridSearchCV()\u003c/code\u003e to perform a \u003ca href\u003d\"https://www.dataschool.io/machine-learning-with-scikit-learn/\"\u003ecross-validation\u003c/a\u003e of five folds.\u003c/p\u003e\n\u003cp\u003eWe\u0027ll end the notebook by storing the best-achieved score and the respective best parameters.\u003c/p\u003e\n\u003cp\u003eWhile building this credit card predictor, we tackled some of the most widely-known preprocessing steps such as \u003cstrong\u003escaling\u003c/strong\u003e, \u003cstrong\u003elabel encoding\u003c/strong\u003e, and \u003cstrong\u003emissing value imputation\u003c/strong\u003e. We finished with some \u003cstrong\u003emachine learning\u003c/strong\u003e to predict if a person\u0027s application for a credit card would get approved or not given some information about that person.\u003c/p\u003e",
      "metadata": {
        "editable": false,
        "tags": [
          "context"
        ],
        "deletable": false,
        "dc": {
          "key": "80"
        },
        "run_control": {
          "frozen": true
        },
        "pycharm": {}
      },
      "cell_type": "markdown"
    },
    {
      "source": "# Instantiate GridSearchCV with the required parameters\ngrid_model \u003d GridSearchCV(estimator\u003dlogreg, param_grid\u003dparam_grid, cv\u003d5)\n\n# Use scaler to rescale X and assign it to rescaledX\nscaler.fit(X)\nrescaledX \u003d scaler.transform(X)\n\n# Fit data to grid_model\ngrid_model_result \u003d grid_model.fit(rescaledX, y)\n\n# Summarize results\nbest_score, best_params \u003d grid_model_result.best_score_, grid_model.best_params_\nprint(\"Best: %f using %s\" % (best_score, best_params))",
      "metadata": {
        "tags": [
          "sample_code"
        ],
        "dc": {
          "key": "80"
        },
        "trusted": true,
        "pycharm": {}
      },
      "outputs": [
        {
          "ename": "AttributeError",
          "evalue": "\u0027GridSearchCV\u0027 object has no attribute \u0027best_score\u0027",
          "output_type": "error",
          "traceback": [
            "---------------------------------------------------------------------------",
            "AttributeError                            Traceback (most recent call last)",
            "\u003cipython-input-274-281b14ba7e61\u003e in \u003cmodule\u003e()\n     10 \n     11 # Summarize results\n---\u003e 12 best_score, best_params \u003d grid_model_result.best_score, grid_model.best_params\n     13 print(\"Best: %f using %s\" % (best_score, best_params))\n",
            "AttributeError: \u0027GridSearchCV\u0027 object has no attribute \u0027best_score\u0027"
          ]
        }
      ],
      "cell_type": "code",
      "execution_count": 274
    }
  ],
  "nbformat": 4
}